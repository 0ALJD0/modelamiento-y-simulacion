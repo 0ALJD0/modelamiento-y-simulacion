{
 "cells": [
  {
   "cell_type": "code",
   "execution_count": 66,
   "id": "ec5d185c",
   "metadata": {},
   "outputs": [],
   "source": [
    "#Modelo de calculo para la cantidad de delitos por 100mil habitantes\n",
    "#importamos las librerías numpy y matplotlib.pyplot y panda\n",
    "import numpy as np\n",
    "import matplotlib.pyplot as plt\n",
    "import pandas as pd\n"
   ]
  },
  {
   "cell_type": "code",
   "execution_count": 67,
   "id": "9f951afd",
   "metadata": {},
   "outputs": [],
   "source": [
    "#Calculamos las tasas de delincuencia\n",
    "#cnvertimos en porcentaje para realizar el calculo en el siguiente paso\n",
    "xconst = np.exp(4.523)\n",
    "xeducacion=(np.exp(0.091)*100)-100\n",
    "xsentencia=(np.exp(0.014)*100)-100\n",
    "xinpunidad=(np.exp(0.007)*100)-100\n",
    "xgobernalidad=np.exp(-1.158)\n",
    "xgobernalidad=(1-xgobernalidad)*100\n"
   ]
  },
  {
   "cell_type": "code",
   "execution_count": 74,
   "id": "76c0c389",
   "metadata": {},
   "outputs": [],
   "source": [
    "#Calculamos las cantidad de delitos por cada 100mil habitantes en cada caso\n",
    "tDelitos1=((xconst*113)/4351037)*100000\n",
    "tDelitos2=((xeducacion*113)/4351037)*100000\n",
    "tDelitos3=((xsentencia*113)/4351037)*100000\n",
    "tDelitos4=((xinpunidad*113)/4351037)*100000\n",
    "tDelitos5=((xgobernalidad*113)/4351037)*100000\n"
   ]
  },
  {
   "cell_type": "code",
   "execution_count": 72,
   "id": "d49b3e60",
   "metadata": {},
   "outputs": [
    {
     "data": {
      "image/png": "[encoded data removed]",
      "text/plain": [
       "<Figure size 432x288 with 1 Axes>"
      ]
     },
     "metadata": {
      "needs_background": "light"
     },
     "output_type": "display_data"
    }
   ],
   "source": [
    "#Visualización de los delitos en cada variación\n",
    "x=['Constantes','Eduación','Sentencia','Impunidad','Gobernabilidad']\n",
    "y=[tDelitos1,tDelitos2,tDelitos3,tDelitos4,tDelitos5]\n",
    "plt.plot(x, y)\n",
    "plt.title('Delitos por cada 100mil habitantes')\n",
    "plt.xlabel('Parametros')\n",
    "plt.ylabel('Cantidad de delitos')\n",
    "plt.show()"
   ]
  },
  {
   "cell_type": "code",
   "execution_count": 73,
   "id": "7175fe33",
   "metadata": {},
   "outputs": [
    {
     "data": {
      "text/html": [
       "<div>\n",
       "<style scoped>\n",
       "    .dataframe tbody tr th:only-of-type {\n",
       "        vertical-align: middle;\n",
       "    }\n",
       "\n",
       "    .dataframe tbody tr th {\n",
       "        vertical-align: top;\n",
       "    }\n",
       "\n",
       "    .dataframe thead th {\n",
       "        text-align: right;\n",
       "    }\n",
       "</style>\n",
       "<table border=\"1\" class=\"dataframe\">\n",
       "  <thead>\n",
       "    <tr style=\"text-align: right;\">\n",
       "      <th></th>\n",
       "      <th>X</th>\n",
       "      <th>Y</th>\n",
       "    </tr>\n",
       "  </thead>\n",
       "  <tbody>\n",
       "    <tr>\n",
       "      <th>0</th>\n",
       "      <td>Constantes</td>\n",
       "      <td>239.221169</td>\n",
       "    </tr>\n",
       "    <tr>\n",
       "      <th>1</th>\n",
       "      <td>Eduación</td>\n",
       "      <td>24.742142</td>\n",
       "    </tr>\n",
       "    <tr>\n",
       "      <th>2</th>\n",
       "      <td>Sentencia</td>\n",
       "      <td>3.661485</td>\n",
       "    </tr>\n",
       "    <tr>\n",
       "      <th>3</th>\n",
       "      <td>Impunidad</td>\n",
       "      <td>1.824335</td>\n",
       "    </tr>\n",
       "    <tr>\n",
       "      <th>4</th>\n",
       "      <td>Gobernabilidad</td>\n",
       "      <td>178.130277</td>\n",
       "    </tr>\n",
       "  </tbody>\n",
       "</table>\n",
       "</div>"
      ],
      "text/plain": [
       "                X           Y\n",
       "0      Constantes  239.221169\n",
       "1        Eduación   24.742142\n",
       "2       Sentencia    3.661485\n",
       "3       Impunidad    1.824335\n",
       "4  Gobernabilidad  178.130277"
      ]
     },
     "execution_count": 73,
     "metadata": {},
     "output_type": "execute_result"
    }
   ],
   "source": [
    "#tabla del numero de delitos.\n",
    "df= pd.DataFrame({'X':x,'Y':y})\n",
    "df"
   ]
  },
  {
   "cell_type": "code",
   "execution_count": 76,
   "id": "3d829d4b",
   "metadata": {},
   "outputs": [
    {
     "data": {
      "text/html": [
       "<div>\n",
       "<style scoped>\n",
       "    .dataframe tbody tr th:only-of-type {\n",
       "        vertical-align: middle;\n",
       "    }\n",
       "\n",
       "    .dataframe tbody tr th {\n",
       "        vertical-align: top;\n",
       "    }\n",
       "\n",
       "    .dataframe thead th {\n",
       "        text-align: right;\n",
       "    }\n",
       "</style>\n",
       "<table border=\"1\" class=\"dataframe\">\n",
       "  <thead>\n",
       "    <tr style=\"text-align: right;\">\n",
       "      <th></th>\n",
       "      <th>X</th>\n",
       "      <th>Y</th>\n",
       "    </tr>\n",
       "  </thead>\n",
       "  <tbody>\n",
       "    <tr>\n",
       "      <th>0</th>\n",
       "      <td>Constantes</td>\n",
       "      <td>92.111518</td>\n",
       "    </tr>\n",
       "    <tr>\n",
       "      <th>1</th>\n",
       "      <td>Eduación</td>\n",
       "      <td>9.526901</td>\n",
       "    </tr>\n",
       "    <tr>\n",
       "      <th>2</th>\n",
       "      <td>Sentencia</td>\n",
       "      <td>1.409846</td>\n",
       "    </tr>\n",
       "    <tr>\n",
       "      <th>3</th>\n",
       "      <td>Impunidad</td>\n",
       "      <td>0.702456</td>\n",
       "    </tr>\n",
       "    <tr>\n",
       "      <th>4</th>\n",
       "      <td>Gobernabilidad</td>\n",
       "      <td>68.588622</td>\n",
       "    </tr>\n",
       "  </tbody>\n",
       "</table>\n",
       "</div>"
      ],
      "text/plain": [
       "                X          Y\n",
       "0      Constantes  92.111518\n",
       "1        Eduación   9.526901\n",
       "2       Sentencia   1.409846\n",
       "3       Impunidad   0.702456\n",
       "4  Gobernabilidad  68.588622"
      ]
     },
     "execution_count": 76,
     "metadata": {},
     "output_type": "execute_result"
    }
   ],
   "source": [
    "#tabla de tasas de delincuencia.\n",
    "tasas=[xconst,xeducacion,xsentencia,xinpunidad,xgobernalidad]\n",
    "df2= pd.DataFrame({'X':x,'Y':tasas})\n",
    "df2"
   ]
  },
  {
   "cell_type": "code",
   "execution_count": null,
   "id": "8fcb4806",
   "metadata": {},
   "outputs": [],
   "source": []
  }
 ],
 "metadata": {
  "kernelspec": {
   "display_name": "Python 3 (ipykernel)",
   "language": "python",
   "name": "python3"
  },
  "language_info": {
   "codemirror_mode": {
    "name": "ipython",
    "version": 3
   },
   "file_extension": ".py",
   "mimetype": "text/x-python",
   "name": "python",
   "nbconvert_exporter": "python",
   "pygments_lexer": "ipython3",
   "version": "3.9.7"
  }
 },
 "nbformat": 4,
 "nbformat_minor": 5
}
